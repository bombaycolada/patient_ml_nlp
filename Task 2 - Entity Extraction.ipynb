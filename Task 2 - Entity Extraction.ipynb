{
 "cells": [
  {
   "cell_type": "markdown",
   "id": "50d46139",
   "metadata": {},
   "source": [
    "# Extract Medical Entities From Discharge Notes"
   ]
  },
  {
   "cell_type": "code",
   "execution_count": 1,
   "id": "9d13c447",
   "metadata": {},
   "outputs": [
    {
     "name": "stdout",
     "output_type": "stream",
     "text": [
      "Requirement already satisfied: transformers==4.52.3 in c:\\users\\olata\\anaconda3\\lib\\site-packages (4.52.3)\n",
      "Requirement already satisfied: packaging>=20.0 in c:\\users\\olata\\anaconda3\\lib\\site-packages (from transformers==4.52.3) (21.3)\n",
      "Requirement already satisfied: safetensors>=0.4.3 in c:\\users\\olata\\anaconda3\\lib\\site-packages (from transformers==4.52.3) (0.5.3)\n",
      "Requirement already satisfied: tokenizers<0.22,>=0.21 in c:\\users\\olata\\anaconda3\\lib\\site-packages (from transformers==4.52.3) (0.21.1)\n",
      "Requirement already satisfied: tqdm>=4.27 in c:\\users\\olata\\anaconda3\\lib\\site-packages (from transformers==4.52.3) (4.64.1)\n",
      "Requirement already satisfied: regex!=2019.12.17 in c:\\users\\olata\\anaconda3\\lib\\site-packages (from transformers==4.52.3) (2022.7.9)\n",
      "Requirement already satisfied: pyyaml>=5.1 in c:\\users\\olata\\anaconda3\\lib\\site-packages (from transformers==4.52.3) (6.0)\n",
      "Requirement already satisfied: huggingface-hub<1.0,>=0.30.0 in c:\\users\\olata\\anaconda3\\lib\\site-packages (from transformers==4.52.3) (0.32.2)\n",
      "Requirement already satisfied: filelock in c:\\users\\olata\\anaconda3\\lib\\site-packages (from transformers==4.52.3) (3.6.0)\n",
      "Requirement already satisfied: requests in c:\\users\\olata\\anaconda3\\lib\\site-packages (from transformers==4.52.3) (2.28.1)\n",
      "Requirement already satisfied: numpy>=1.17 in c:\\users\\olata\\anaconda3\\lib\\site-packages (from transformers==4.52.3) (1.26.4)\n",
      "Requirement already satisfied: typing-extensions>=3.7.4.3 in c:\\users\\olata\\anaconda3\\lib\\site-packages (from huggingface-hub<1.0,>=0.30.0->transformers==4.52.3) (4.12.2)\n",
      "Requirement already satisfied: fsspec>=2023.5.0 in c:\\users\\olata\\anaconda3\\lib\\site-packages (from huggingface-hub<1.0,>=0.30.0->transformers==4.52.3) (2025.5.1)\n",
      "Requirement already satisfied: pyparsing!=3.0.5,>=2.0.2 in c:\\users\\olata\\anaconda3\\lib\\site-packages (from packaging>=20.0->transformers==4.52.3) (3.0.9)\n",
      "Requirement already satisfied: colorama in c:\\users\\olata\\anaconda3\\lib\\site-packages (from tqdm>=4.27->transformers==4.52.3) (0.4.5)\n",
      "Requirement already satisfied: certifi>=2017.4.17 in c:\\users\\olata\\anaconda3\\lib\\site-packages (from requests->transformers==4.52.3) (2022.9.14)\n",
      "Requirement already satisfied: idna<4,>=2.5 in c:\\users\\olata\\anaconda3\\lib\\site-packages (from requests->transformers==4.52.3) (3.3)\n",
      "Requirement already satisfied: urllib3<1.27,>=1.21.1 in c:\\users\\olata\\anaconda3\\lib\\site-packages (from requests->transformers==4.52.3) (1.26.11)\n",
      "Requirement already satisfied: charset-normalizer<3,>=2 in c:\\users\\olata\\anaconda3\\lib\\site-packages (from requests->transformers==4.52.3) (2.0.4)\n"
     ]
    },
    {
     "name": "stderr",
     "output_type": "stream",
     "text": [
      "WARNING: Ignoring invalid distribution -ensorflow-intel (c:\\users\\olata\\anaconda3\\lib\\site-packages)\n",
      "WARNING: Ignoring invalid distribution -ensorflow-intel (c:\\users\\olata\\anaconda3\\lib\\site-packages)\n",
      "WARNING: Ignoring invalid distribution -ensorflow-intel (c:\\users\\olata\\anaconda3\\lib\\site-packages)\n",
      "WARNING: Ignoring invalid distribution -ensorflow-intel (c:\\users\\olata\\anaconda3\\lib\\site-packages)\n",
      "WARNING: Ignoring invalid distribution -ensorflow-intel (c:\\users\\olata\\anaconda3\\lib\\site-packages)\n",
      "WARNING: Ignoring invalid distribution -ensorflow-intel (c:\\users\\olata\\anaconda3\\lib\\site-packages)\n"
     ]
    }
   ],
   "source": [
    "!pip install transformers==4.52.3"
   ]
  },
  {
   "cell_type": "code",
   "execution_count": 2,
   "id": "0728bd2a",
   "metadata": {},
   "outputs": [
    {
     "name": "stdout",
     "output_type": "stream",
     "text": [
      "Requirement already satisfied: sentencepiece in c:\\users\\olata\\anaconda3\\lib\\site-packages (0.2.0)\n"
     ]
    },
    {
     "name": "stderr",
     "output_type": "stream",
     "text": [
      "WARNING: Ignoring invalid distribution -ensorflow-intel (c:\\users\\olata\\anaconda3\\lib\\site-packages)\n",
      "WARNING: Ignoring invalid distribution -ensorflow-intel (c:\\users\\olata\\anaconda3\\lib\\site-packages)\n",
      "WARNING: Ignoring invalid distribution -ensorflow-intel (c:\\users\\olata\\anaconda3\\lib\\site-packages)\n",
      "WARNING: Ignoring invalid distribution -ensorflow-intel (c:\\users\\olata\\anaconda3\\lib\\site-packages)\n",
      "WARNING: Ignoring invalid distribution -ensorflow-intel (c:\\users\\olata\\anaconda3\\lib\\site-packages)\n",
      "WARNING: Ignoring invalid distribution -ensorflow-intel (c:\\users\\olata\\anaconda3\\lib\\site-packages)\n"
     ]
    }
   ],
   "source": [
    "!pip install sentencepiece"
   ]
  },
  {
   "cell_type": "code",
   "execution_count": 3,
   "id": "62efc37a",
   "metadata": {},
   "outputs": [
    {
     "name": "stdout",
     "output_type": "stream",
     "text": [
      "Requirement already satisfied: torch in c:\\users\\olata\\anaconda3\\lib\\site-packages (2.7.0)\n",
      "Requirement already satisfied: filelock in c:\\users\\olata\\anaconda3\\lib\\site-packages (from torch) (3.6.0)\n",
      "Requirement already satisfied: networkx in c:\\users\\olata\\anaconda3\\lib\\site-packages (from torch) (2.8.4)\n",
      "Requirement already satisfied: sympy>=1.13.3 in c:\\users\\olata\\anaconda3\\lib\\site-packages (from torch) (1.14.0)\n",
      "Requirement already satisfied: fsspec in c:\\users\\olata\\anaconda3\\lib\\site-packages (from torch) (2025.5.1)\n",
      "Requirement already satisfied: typing-extensions>=4.10.0 in c:\\users\\olata\\anaconda3\\lib\\site-packages (from torch) (4.12.2)\n",
      "Requirement already satisfied: jinja2 in c:\\users\\olata\\anaconda3\\lib\\site-packages (from torch) (2.11.3)\n",
      "Requirement already satisfied: mpmath<1.4,>=1.1.0 in c:\\users\\olata\\anaconda3\\lib\\site-packages (from sympy>=1.13.3->torch) (1.2.1)\n",
      "Requirement already satisfied: MarkupSafe>=0.23 in c:\\users\\olata\\anaconda3\\lib\\site-packages (from jinja2->torch) (2.0.1)\n"
     ]
    },
    {
     "name": "stderr",
     "output_type": "stream",
     "text": [
      "WARNING: Ignoring invalid distribution -ensorflow-intel (c:\\users\\olata\\anaconda3\\lib\\site-packages)\n",
      "WARNING: Ignoring invalid distribution -ensorflow-intel (c:\\users\\olata\\anaconda3\\lib\\site-packages)\n",
      "WARNING: Ignoring invalid distribution -ensorflow-intel (c:\\users\\olata\\anaconda3\\lib\\site-packages)\n",
      "WARNING: Ignoring invalid distribution -ensorflow-intel (c:\\users\\olata\\anaconda3\\lib\\site-packages)\n",
      "WARNING: Ignoring invalid distribution -ensorflow-intel (c:\\users\\olata\\anaconda3\\lib\\site-packages)\n",
      "WARNING: Ignoring invalid distribution -ensorflow-intel (c:\\users\\olata\\anaconda3\\lib\\site-packages)\n"
     ]
    }
   ],
   "source": [
    "!pip install torch\n"
   ]
  },
  {
   "cell_type": "code",
   "execution_count": 4,
   "id": "d9392b2d",
   "metadata": {},
   "outputs": [
    {
     "name": "stderr",
     "output_type": "stream",
     "text": [
      "WARNING: Ignoring invalid distribution -ensorflow-intel (c:\\users\\olata\\anaconda3\\lib\\site-packages)\n",
      "WARNING: Ignoring invalid distribution -ensorflow-intel (c:\\users\\olata\\anaconda3\\lib\\site-packages)\n",
      "WARNING: Ignoring invalid distribution -ensorflow-intel (c:\\users\\olata\\anaconda3\\lib\\site-packages)\n",
      "WARNING: Ignoring invalid distribution -ensorflow-intel (c:\\users\\olata\\anaconda3\\lib\\site-packages)\n",
      "WARNING: Ignoring invalid distribution -ensorflow-intel (c:\\users\\olata\\anaconda3\\lib\\site-packages)\n",
      "WARNING: Ignoring invalid distribution -ensorflow-intel (c:\\users\\olata\\anaconda3\\lib\\site-packages)\n"
     ]
    },
    {
     "name": "stdout",
     "output_type": "stream",
     "text": [
      "Requirement already satisfied: tensorflow-cpu==2.16.1 in c:\\users\\olata\\anaconda3\\lib\\site-packages (2.16.1)\n",
      "Requirement already satisfied: tensorflow-intel==2.16.1 in c:\\users\\olata\\anaconda3\\lib\\site-packages (from tensorflow-cpu==2.16.1) (2.16.1)\n",
      "Requirement already satisfied: keras>=3.0.0 in c:\\users\\olata\\anaconda3\\lib\\site-packages (from tensorflow-intel==2.16.1->tensorflow-cpu==2.16.1) (3.10.0)\n",
      "Requirement already satisfied: absl-py>=1.0.0 in c:\\users\\olata\\anaconda3\\lib\\site-packages (from tensorflow-intel==2.16.1->tensorflow-cpu==2.16.1) (2.1.0)\n",
      "Requirement already satisfied: requests<3,>=2.21.0 in c:\\users\\olata\\anaconda3\\lib\\site-packages (from tensorflow-intel==2.16.1->tensorflow-cpu==2.16.1) (2.28.1)\n",
      "Requirement already satisfied: packaging in c:\\users\\olata\\anaconda3\\lib\\site-packages (from tensorflow-intel==2.16.1->tensorflow-cpu==2.16.1) (21.3)\n",
      "Requirement already satisfied: typing-extensions>=3.6.6 in c:\\users\\olata\\anaconda3\\lib\\site-packages (from tensorflow-intel==2.16.1->tensorflow-cpu==2.16.1) (4.12.2)\n",
      "Requirement already satisfied: termcolor>=1.1.0 in c:\\users\\olata\\anaconda3\\lib\\site-packages (from tensorflow-intel==2.16.1->tensorflow-cpu==2.16.1) (2.4.0)\n",
      "Requirement already satisfied: libclang>=13.0.0 in c:\\users\\olata\\anaconda3\\lib\\site-packages (from tensorflow-intel==2.16.1->tensorflow-cpu==2.16.1) (18.1.1)\n",
      "Requirement already satisfied: gast!=0.5.0,!=0.5.1,!=0.5.2,>=0.2.1 in c:\\users\\olata\\anaconda3\\lib\\site-packages (from tensorflow-intel==2.16.1->tensorflow-cpu==2.16.1) (0.4.0)\n",
      "Requirement already satisfied: wrapt>=1.11.0 in c:\\users\\olata\\anaconda3\\lib\\site-packages (from tensorflow-intel==2.16.1->tensorflow-cpu==2.16.1) (1.14.1)\n",
      "Requirement already satisfied: numpy<2.0.0,>=1.23.5 in c:\\users\\olata\\anaconda3\\lib\\site-packages (from tensorflow-intel==2.16.1->tensorflow-cpu==2.16.1) (1.26.4)\n",
      "Requirement already satisfied: setuptools in c:\\users\\olata\\anaconda3\\lib\\site-packages (from tensorflow-intel==2.16.1->tensorflow-cpu==2.16.1) (63.4.1)\n",
      "Requirement already satisfied: six>=1.12.0 in c:\\users\\olata\\anaconda3\\lib\\site-packages (from tensorflow-intel==2.16.1->tensorflow-cpu==2.16.1) (1.16.0)\n",
      "Requirement already satisfied: google-pasta>=0.1.1 in c:\\users\\olata\\anaconda3\\lib\\site-packages (from tensorflow-intel==2.16.1->tensorflow-cpu==2.16.1) (0.2.0)\n",
      "Requirement already satisfied: opt-einsum>=2.3.2 in c:\\users\\olata\\anaconda3\\lib\\site-packages (from tensorflow-intel==2.16.1->tensorflow-cpu==2.16.1) (3.3.0)\n",
      "Requirement already satisfied: flatbuffers>=23.5.26 in c:\\users\\olata\\anaconda3\\lib\\site-packages (from tensorflow-intel==2.16.1->tensorflow-cpu==2.16.1) (25.2.10)\n",
      "Requirement already satisfied: astunparse>=1.6.0 in c:\\users\\olata\\anaconda3\\lib\\site-packages (from tensorflow-intel==2.16.1->tensorflow-cpu==2.16.1) (1.6.3)\n",
      "Requirement already satisfied: protobuf!=4.21.0,!=4.21.1,!=4.21.2,!=4.21.3,!=4.21.4,!=4.21.5,<5.0.0dev,>=3.20.3 in c:\\users\\olata\\anaconda3\\lib\\site-packages (from tensorflow-intel==2.16.1->tensorflow-cpu==2.16.1) (4.25.3)\n",
      "Requirement already satisfied: ml-dtypes~=0.3.1 in c:\\users\\olata\\anaconda3\\lib\\site-packages (from tensorflow-intel==2.16.1->tensorflow-cpu==2.16.1) (0.3.2)\n",
      "Requirement already satisfied: tensorflow-io-gcs-filesystem>=0.23.1 in c:\\users\\olata\\anaconda3\\lib\\site-packages (from tensorflow-intel==2.16.1->tensorflow-cpu==2.16.1) (0.31.0)\n",
      "Requirement already satisfied: tensorboard<2.17,>=2.16 in c:\\users\\olata\\anaconda3\\lib\\site-packages (from tensorflow-intel==2.16.1->tensorflow-cpu==2.16.1) (2.16.2)\n",
      "Requirement already satisfied: h5py>=3.10.0 in c:\\users\\olata\\anaconda3\\lib\\site-packages (from tensorflow-intel==2.16.1->tensorflow-cpu==2.16.1) (3.11.0)\n",
      "Requirement already satisfied: grpcio<2.0,>=1.24.3 in c:\\users\\olata\\anaconda3\\lib\\site-packages (from tensorflow-intel==2.16.1->tensorflow-cpu==2.16.1) (1.64.1)\n",
      "Requirement already satisfied: wheel<1.0,>=0.23.0 in c:\\users\\olata\\anaconda3\\lib\\site-packages (from astunparse>=1.6.0->tensorflow-intel==2.16.1->tensorflow-cpu==2.16.1) (0.37.1)\n",
      "Requirement already satisfied: optree in c:\\users\\olata\\anaconda3\\lib\\site-packages (from keras>=3.0.0->tensorflow-intel==2.16.1->tensorflow-cpu==2.16.1) (0.12.1)\n",
      "Requirement already satisfied: namex in c:\\users\\olata\\anaconda3\\lib\\site-packages (from keras>=3.0.0->tensorflow-intel==2.16.1->tensorflow-cpu==2.16.1) (0.0.8)\n",
      "Requirement already satisfied: rich in c:\\users\\olata\\anaconda3\\lib\\site-packages (from keras>=3.0.0->tensorflow-intel==2.16.1->tensorflow-cpu==2.16.1) (13.7.1)\n",
      "Requirement already satisfied: idna<4,>=2.5 in c:\\users\\olata\\anaconda3\\lib\\site-packages (from requests<3,>=2.21.0->tensorflow-intel==2.16.1->tensorflow-cpu==2.16.1) (3.3)\n",
      "Requirement already satisfied: urllib3<1.27,>=1.21.1 in c:\\users\\olata\\anaconda3\\lib\\site-packages (from requests<3,>=2.21.0->tensorflow-intel==2.16.1->tensorflow-cpu==2.16.1) (1.26.11)\n",
      "Requirement already satisfied: charset-normalizer<3,>=2 in c:\\users\\olata\\anaconda3\\lib\\site-packages (from requests<3,>=2.21.0->tensorflow-intel==2.16.1->tensorflow-cpu==2.16.1) (2.0.4)\n",
      "Requirement already satisfied: certifi>=2017.4.17 in c:\\users\\olata\\anaconda3\\lib\\site-packages (from requests<3,>=2.21.0->tensorflow-intel==2.16.1->tensorflow-cpu==2.16.1) (2022.9.14)\n",
      "Requirement already satisfied: tensorboard-data-server<0.8.0,>=0.7.0 in c:\\users\\olata\\anaconda3\\lib\\site-packages (from tensorboard<2.17,>=2.16->tensorflow-intel==2.16.1->tensorflow-cpu==2.16.1) (0.7.2)\n",
      "Requirement already satisfied: werkzeug>=1.0.1 in c:\\users\\olata\\anaconda3\\lib\\site-packages (from tensorboard<2.17,>=2.16->tensorflow-intel==2.16.1->tensorflow-cpu==2.16.1) (2.0.3)\n",
      "Requirement already satisfied: markdown>=2.6.8 in c:\\users\\olata\\anaconda3\\lib\\site-packages (from tensorboard<2.17,>=2.16->tensorflow-intel==2.16.1->tensorflow-cpu==2.16.1) (3.3.4)\n",
      "Requirement already satisfied: pyparsing!=3.0.5,>=2.0.2 in c:\\users\\olata\\anaconda3\\lib\\site-packages (from packaging->tensorflow-intel==2.16.1->tensorflow-cpu==2.16.1) (3.0.9)\n",
      "Requirement already satisfied: markdown-it-py>=2.2.0 in c:\\users\\olata\\anaconda3\\lib\\site-packages (from rich->keras>=3.0.0->tensorflow-intel==2.16.1->tensorflow-cpu==2.16.1) (3.0.0)\n",
      "Requirement already satisfied: pygments<3.0.0,>=2.13.0 in c:\\users\\olata\\anaconda3\\lib\\site-packages (from rich->keras>=3.0.0->tensorflow-intel==2.16.1->tensorflow-cpu==2.16.1) (2.18.0)\n",
      "Requirement already satisfied: mdurl~=0.1 in c:\\users\\olata\\anaconda3\\lib\\site-packages (from markdown-it-py>=2.2.0->rich->keras>=3.0.0->tensorflow-intel==2.16.1->tensorflow-cpu==2.16.1) (0.1.2)\n"
     ]
    }
   ],
   "source": [
    "!pip install tensorflow-cpu==2.16.1"
   ]
  },
  {
   "cell_type": "code",
   "execution_count": 5,
   "id": "6ec39147",
   "metadata": {},
   "outputs": [
    {
     "name": "stdout",
     "output_type": "stream",
     "text": [
      "Requirement already satisfied: tf-keras==2.16.0 in c:\\users\\olata\\anaconda3\\lib\\site-packages (2.16.0)\n"
     ]
    },
    {
     "name": "stderr",
     "output_type": "stream",
     "text": [
      "WARNING: Ignoring invalid distribution -ensorflow-intel (c:\\users\\olata\\anaconda3\\lib\\site-packages)\n",
      "WARNING: Ignoring invalid distribution -ensorflow-intel (c:\\users\\olata\\anaconda3\\lib\\site-packages)\n",
      "WARNING: Ignoring invalid distribution -ensorflow-intel (c:\\users\\olata\\anaconda3\\lib\\site-packages)\n",
      "WARNING: Ignoring invalid distribution -ensorflow-intel (c:\\users\\olata\\anaconda3\\lib\\site-packages)\n",
      "WARNING: Ignoring invalid distribution -ensorflow-intel (c:\\users\\olata\\anaconda3\\lib\\site-packages)\n"
     ]
    }
   ],
   "source": [
    "!pip install tf-keras==2.16.0 --no-dependencies"
   ]
  },
  {
   "cell_type": "code",
   "execution_count": 6,
   "id": "f57bf098",
   "metadata": {},
   "outputs": [
    {
     "name": "stderr",
     "output_type": "stream",
     "text": [
      "C:\\Users\\olata\\anaconda3\\lib\\site-packages\\scipy\\__init__.py:155: UserWarning: A NumPy version >=1.18.5 and <1.25.0 is required for this version of SciPy (detected version 1.26.4\n",
      "  warnings.warn(f\"A NumPy version >={np_minversion} and <{np_maxversion}\"\n"
     ]
    }
   ],
   "source": [
    "import torch\n",
    "import pandas as pd\n",
    "from transformers import AutoTokenizer, pipeline, AutoModelForTokenClassification\n",
    "\n",
    "#load model\n",
    "device = \"cuda\" if torch.cuda.is_available() else \"cpu\"\n",
    "model = AutoModelForTokenClassification.from_pretrained(\"NeverLearn/Medical-NER-finetuned-ner\").to(device)\n",
    "tokenizer = AutoTokenizer.from_pretrained(\"NeverLearn/Medical-NER-finetuned-ner\")\n"
   ]
  },
  {
   "cell_type": "code",
   "execution_count": 7,
   "id": "69919628",
   "metadata": {},
   "outputs": [],
   "source": [
    "#load discharge notes\n",
    "patient_data= pd.read_csv('./Assignment_Data.csv')"
   ]
  },
  {
   "cell_type": "code",
   "execution_count": 8,
   "id": "72457cb1",
   "metadata": {},
   "outputs": [
    {
     "name": "stderr",
     "output_type": "stream",
     "text": [
      "Device set to use cpu\n",
      "Asking to truncate to max_length but no maximum length is provided and the model has no predefined maximum length. Default to no truncation.\n"
     ]
    },
    {
     "name": "stdout",
     "output_type": "stream",
     "text": [
      "Good recovery trajectory. Follow-up scan scheduled next month.\n",
      "[{'entity': 'B-SEVERITY', 'score': 0.5955572, 'index': 1, 'word': '▁Good', 'start': 0, 'end': 4}, {'entity': 'B-SIGN_SYMPTOM', 'score': 0.609946, 'index': 2, 'word': '▁recovery', 'start': 4, 'end': 13}, {'entity': 'B-SIGN_SYMPTOM', 'score': 0.39118472, 'index': 3, 'word': '▁trajectory', 'start': 13, 'end': 24}, {'entity': 'B-CLINICAL_EVENT', 'score': 0.92958754, 'index': 5, 'word': '▁Follow', 'start': 25, 'end': 32}, {'entity': 'B-CLINICAL_EVENT', 'score': 0.9601485, 'index': 6, 'word': '-', 'start': 32, 'end': 33}, {'entity': 'B-CLINICAL_EVENT', 'score': 0.94097596, 'index': 7, 'word': 'up', 'start': 33, 'end': 35}, {'entity': 'B-DATE', 'score': 0.99343854, 'index': 10, 'word': '▁next', 'start': 50, 'end': 55}, {'entity': 'B-DATE', 'score': 0.99111944, 'index': 11, 'word': '▁month', 'start': 55, 'end': 61}]\n",
      "\n",
      "\n",
      "Stable post-surgery. Advised to avoid physical exertion.\n",
      "[{'entity': 'B-SIGN_SYMPTOM', 'score': 0.5791207, 'index': 1, 'word': '▁Stable', 'start': 0, 'end': 6}, {'entity': 'B-THERAPEUTIC_PROCEDURE', 'score': 0.52332336, 'index': 4, 'word': 'surgery', 'start': 12, 'end': 19}, {'entity': 'B-ACTIVITY', 'score': 0.72742295, 'index': 9, 'word': '▁physical', 'start': 37, 'end': 46}, {'entity': 'B-ACTIVITY', 'score': 0.8098034, 'index': 10, 'word': '▁exertion', 'start': 46, 'end': 55}]\n",
      "\n",
      "\n",
      "Symptoms controlled. Monitoring for relapse advised.\n",
      "[{'entity': 'B-SIGN_SYMPTOM', 'score': 0.7170986, 'index': 1, 'word': '▁Symptoms', 'start': 0, 'end': 8}, {'entity': 'B-SIGN_SYMPTOM', 'score': 0.29396752, 'index': 2, 'word': '▁controlled', 'start': 8, 'end': 19}, {'entity': 'B-CLINICAL_EVENT', 'score': 0.8388637, 'index': 4, 'word': '▁Monitoring', 'start': 20, 'end': 31}]\n",
      "\n",
      "\n",
      "Stable post-surgery. Advised to avoid physical exertion.\n",
      "[{'entity': 'B-SIGN_SYMPTOM', 'score': 0.5791207, 'index': 1, 'word': '▁Stable', 'start': 0, 'end': 6}, {'entity': 'B-THERAPEUTIC_PROCEDURE', 'score': 0.52332336, 'index': 4, 'word': 'surgery', 'start': 12, 'end': 19}, {'entity': 'B-ACTIVITY', 'score': 0.72742295, 'index': 9, 'word': '▁physical', 'start': 37, 'end': 46}, {'entity': 'B-ACTIVITY', 'score': 0.8098034, 'index': 10, 'word': '▁exertion', 'start': 46, 'end': 55}]\n",
      "\n",
      "\n",
      "Stable post-surgery. Advised to avoid physical exertion.\n",
      "[{'entity': 'B-SIGN_SYMPTOM', 'score': 0.5791207, 'index': 1, 'word': '▁Stable', 'start': 0, 'end': 6}, {'entity': 'B-THERAPEUTIC_PROCEDURE', 'score': 0.52332336, 'index': 4, 'word': 'surgery', 'start': 12, 'end': 19}, {'entity': 'B-ACTIVITY', 'score': 0.72742295, 'index': 9, 'word': '▁physical', 'start': 37, 'end': 46}, {'entity': 'B-ACTIVITY', 'score': 0.8098034, 'index': 10, 'word': '▁exertion', 'start': 46, 'end': 55}]\n",
      "\n",
      "\n",
      "Good recovery trajectory. Follow-up scan scheduled next month.\n",
      "[{'entity': 'B-SEVERITY', 'score': 0.5955572, 'index': 1, 'word': '▁Good', 'start': 0, 'end': 4}, {'entity': 'B-SIGN_SYMPTOM', 'score': 0.609946, 'index': 2, 'word': '▁recovery', 'start': 4, 'end': 13}, {'entity': 'B-SIGN_SYMPTOM', 'score': 0.39118472, 'index': 3, 'word': '▁trajectory', 'start': 13, 'end': 24}, {'entity': 'B-CLINICAL_EVENT', 'score': 0.92958754, 'index': 5, 'word': '▁Follow', 'start': 25, 'end': 32}, {'entity': 'B-CLINICAL_EVENT', 'score': 0.9601485, 'index': 6, 'word': '-', 'start': 32, 'end': 33}, {'entity': 'B-CLINICAL_EVENT', 'score': 0.94097596, 'index': 7, 'word': 'up', 'start': 33, 'end': 35}, {'entity': 'B-DATE', 'score': 0.99343854, 'index': 10, 'word': '▁next', 'start': 50, 'end': 55}, {'entity': 'B-DATE', 'score': 0.99111944, 'index': 11, 'word': '▁month', 'start': 55, 'end': 61}]\n",
      "\n",
      "\n",
      "Discharge after recovery from pneumonia. No complications observed.\n",
      "[{'entity': 'B-CLINICAL_EVENT', 'score': 0.8175551, 'index': 1, 'word': '▁Discharge', 'start': 0, 'end': 9}, {'entity': 'B-CLINICAL_EVENT', 'score': 0.5432278, 'index': 3, 'word': '▁recovery', 'start': 15, 'end': 24}, {'entity': 'B-DISEASE_DISORDER', 'score': 0.96943766, 'index': 5, 'word': '▁pneumonia', 'start': 29, 'end': 39}, {'entity': 'B-SIGN_SYMPTOM', 'score': 0.76052696, 'index': 8, 'word': '▁complications', 'start': 43, 'end': 57}]\n",
      "\n",
      "\n",
      "Patient discharged in stable condition. Recommend follow-up in 2 weeks.\n",
      "[{'entity': 'B-CLINICAL_EVENT', 'score': 0.9859519, 'index': 2, 'word': '▁discharged', 'start': 7, 'end': 18}, {'entity': 'B-LAB_VALUE', 'score': 0.59383917, 'index': 4, 'word': '▁stable', 'start': 21, 'end': 28}, {'entity': 'B-DIAGNOSTIC_PROCEDURE', 'score': 0.56012154, 'index': 5, 'word': '▁condition', 'start': 28, 'end': 38}, {'entity': 'B-CLINICAL_EVENT', 'score': 0.989641, 'index': 8, 'word': '▁follow', 'start': 49, 'end': 56}, {'entity': 'B-CLINICAL_EVENT', 'score': 0.97735524, 'index': 9, 'word': '-', 'start': 56, 'end': 57}, {'entity': 'B-CLINICAL_EVENT', 'score': 0.9906538, 'index': 10, 'word': 'up', 'start': 57, 'end': 59}, {'entity': 'B-DATE', 'score': 0.9805623, 'index': 12, 'word': '▁2', 'start': 62, 'end': 64}, {'entity': 'B-DATE', 'score': 0.9856331, 'index': 13, 'word': '▁weeks', 'start': 64, 'end': 70}]\n",
      "\n",
      "\n",
      "Patient showed improvement. Prescribed antibiotics for 5 days.\n",
      "[{'entity': 'B-SIGN_SYMPTOM', 'score': 0.48383555, 'index': 3, 'word': '▁improvement', 'start': 14, 'end': 26}, {'entity': 'B-MEDICATION', 'score': 0.9695542, 'index': 6, 'word': '▁antibiotics', 'start': 38, 'end': 50}, {'entity': 'B-DURATION', 'score': 0.9990056, 'index': 8, 'word': '▁5', 'start': 54, 'end': 56}, {'entity': 'B-DURATION', 'score': 0.9990164, 'index': 9, 'word': '▁days', 'start': 56, 'end': 61}]\n",
      "\n",
      "\n",
      "Blood pressure under control. Continue current medication.\n",
      "[{'entity': 'B-DIAGNOSTIC_PROCEDURE', 'score': 0.9343633, 'index': 1, 'word': '▁Blood', 'start': 0, 'end': 5}, {'entity': 'B-DIAGNOSTIC_PROCEDURE', 'score': 0.92566746, 'index': 2, 'word': '▁pressure', 'start': 5, 'end': 14}, {'entity': 'B-SEVERITY', 'score': 0.43474323, 'index': 4, 'word': '▁control', 'start': 20, 'end': 28}]\n",
      "\n",
      "\n",
      "Stable post-surgery. Advised to avoid physical exertion.\n",
      "[{'entity': 'B-SIGN_SYMPTOM', 'score': 0.5791207, 'index': 1, 'word': '▁Stable', 'start': 0, 'end': 6}, {'entity': 'B-THERAPEUTIC_PROCEDURE', 'score': 0.52332336, 'index': 4, 'word': 'surgery', 'start': 12, 'end': 19}, {'entity': 'B-ACTIVITY', 'score': 0.72742295, 'index': 9, 'word': '▁physical', 'start': 37, 'end': 46}, {'entity': 'B-ACTIVITY', 'score': 0.8098034, 'index': 10, 'word': '▁exertion', 'start': 46, 'end': 55}]\n",
      "\n",
      "\n",
      "Patient discharged with minor discomfort. Advised rest and hydration.\n",
      "[{'entity': 'B-CLINICAL_EVENT', 'score': 0.982856, 'index': 2, 'word': '▁discharged', 'start': 7, 'end': 18}, {'entity': 'B-SEVERITY', 'score': 0.97217077, 'index': 4, 'word': '▁minor', 'start': 23, 'end': 29}, {'entity': 'B-SIGN_SYMPTOM', 'score': 0.975603, 'index': 5, 'word': '▁discomfort', 'start': 29, 'end': 40}, {'entity': 'B-THERAPEUTIC_PROCEDURE', 'score': 0.98345876, 'index': 8, 'word': '▁rest', 'start': 49, 'end': 54}, {'entity': 'B-THERAPEUTIC_PROCEDURE', 'score': 0.97899055, 'index': 10, 'word': '▁hydration', 'start': 58, 'end': 68}]\n",
      "\n",
      "\n",
      "Symptoms controlled. Monitoring for relapse advised.\n",
      "[{'entity': 'B-SIGN_SYMPTOM', 'score': 0.7170986, 'index': 1, 'word': '▁Symptoms', 'start': 0, 'end': 8}, {'entity': 'B-SIGN_SYMPTOM', 'score': 0.29396752, 'index': 2, 'word': '▁controlled', 'start': 8, 'end': 19}, {'entity': 'B-CLINICAL_EVENT', 'score': 0.8388637, 'index': 4, 'word': '▁Monitoring', 'start': 20, 'end': 31}]\n",
      "\n",
      "\n",
      "Discharge after recovery from pneumonia. No complications observed.\n",
      "[{'entity': 'B-CLINICAL_EVENT', 'score': 0.8175551, 'index': 1, 'word': '▁Discharge', 'start': 0, 'end': 9}, {'entity': 'B-CLINICAL_EVENT', 'score': 0.5432278, 'index': 3, 'word': '▁recovery', 'start': 15, 'end': 24}, {'entity': 'B-DISEASE_DISORDER', 'score': 0.96943766, 'index': 5, 'word': '▁pneumonia', 'start': 29, 'end': 39}, {'entity': 'B-SIGN_SYMPTOM', 'score': 0.76052696, 'index': 8, 'word': '▁complications', 'start': 43, 'end': 57}]\n",
      "\n",
      "\n",
      "Stable post-surgery. Advised to avoid physical exertion.\n",
      "[{'entity': 'B-SIGN_SYMPTOM', 'score': 0.5791207, 'index': 1, 'word': '▁Stable', 'start': 0, 'end': 6}, {'entity': 'B-THERAPEUTIC_PROCEDURE', 'score': 0.52332336, 'index': 4, 'word': 'surgery', 'start': 12, 'end': 19}, {'entity': 'B-ACTIVITY', 'score': 0.72742295, 'index': 9, 'word': '▁physical', 'start': 37, 'end': 46}, {'entity': 'B-ACTIVITY', 'score': 0.8098034, 'index': 10, 'word': '▁exertion', 'start': 46, 'end': 55}]\n",
      "\n",
      "\n"
     ]
    }
   ],
   "source": [
    "#extract clinical entities from discharge notes. \n",
    "nlp = pipeline(\"ner\", model=model, tokenizer=tokenizer)\n",
    "for text in patient_data['discharge_note'].iloc[:15]:\n",
    "    print(text)\n",
    "    output = nlp(text)\n",
    "    print(output)\n",
    "    print(\"\\n\")\n"
   ]
  },
  {
   "cell_type": "code",
   "execution_count": null,
   "id": "f1f4e093",
   "metadata": {},
   "outputs": [],
   "source": []
  }
 ],
 "metadata": {
  "kernelspec": {
   "display_name": "Python 3 (ipykernel)",
   "language": "python",
   "name": "python3"
  },
  "language_info": {
   "codemirror_mode": {
    "name": "ipython",
    "version": 3
   },
   "file_extension": ".py",
   "mimetype": "text/x-python",
   "name": "python",
   "nbconvert_exporter": "python",
   "pygments_lexer": "ipython3",
   "version": "3.9.13"
  }
 },
 "nbformat": 4,
 "nbformat_minor": 5
}
